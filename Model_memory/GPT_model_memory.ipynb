{
  "nbformat": 4,
  "nbformat_minor": 0,
  "metadata": {
    "colab": {
      "provenance": []
    },
    "kernelspec": {
      "name": "python3",
      "display_name": "Python 3"
    },
    "language_info": {
      "name": "python"
    }
  },
  "cells": [
    {
      "cell_type": "code",
      "execution_count": 1,
      "metadata": {
        "id": "SMyYjzLlAlnf"
      },
      "outputs": [],
      "source": [
        "import numpy as np\n",
        "import torch"
      ]
    },
    {
      "cell_type": "markdown",
      "source": [
        "# To create the memory of model we are going to average the past context  \n",
        "* We are gonna for every single batch element independently and every token in that sequence\n",
        "* We calculate average of all vectors in all previous tokens and at also current token\n",
        "* Thats how we get bag of words\n",
        "\n",
        "# In function we are iterating over all batch-dims independently\n",
        "* Then iterating over time\n",
        "* And then the previous tokens are at this batch-dim (x[b, and then everything up to and including t-token :t+1)"
      ],
      "metadata": {
        "id": "4YEP4rTuIkMR"
      }
    },
    {
      "cell_type": "code",
      "source": [
        "torch.manual_seed(42)\n",
        "a = torch.ones(3,3)\n",
        "b = torch.randint(0,10,(3,2)).float()\n",
        "c = a @ b\n",
        "print('a=')\n",
        "print(a)\n",
        "print('b=')\n",
        "print(b)\n",
        "print('--')\n",
        "print('c=')\n",
        "print(c)"
      ],
      "metadata": {
        "colab": {
          "base_uri": "https://localhost:8080/"
        },
        "id": "cCHTYN-NCaaC",
        "outputId": "23a475b5-71c7-45f6-a5d2-035e4efb4a71"
      },
      "execution_count": 6,
      "outputs": [
        {
          "output_type": "stream",
          "name": "stdout",
          "text": [
            "a=\n",
            "tensor([[1., 1., 1.],\n",
            "        [1., 1., 1.],\n",
            "        [1., 1., 1.]])\n",
            "b=\n",
            "tensor([[2., 7.],\n",
            "        [6., 4.],\n",
            "        [6., 5.]])\n",
            "--\n",
            "c=\n",
            "tensor([[14., 16.],\n",
            "        [14., 16.],\n",
            "        [14., 16.]])\n"
          ]
        }
      ]
    },
    {
      "cell_type": "markdown",
      "source": [
        "# We have simple 3 by 3 matrix a, then matrix b 3 by 2 with random numbers\n",
        "* And then c matrix, which is matrix multiplication of a and b, which gives us 3 by 2\n",
        "\n",
        "# So 14 in tensor c is dop product of first row of a [1,1,1] with first column of b [2,6,6]\n",
        "* And as well 16 in tensor c is dot product between first row of a [1,1,1] with second column of b [7,4,5]"
      ],
      "metadata": {
        "id": "pQbP4hssDJWQ"
      }
    },
    {
      "cell_type": "code",
      "source": [
        "torch.tril(torch.ones(3,3))"
      ],
      "metadata": {
        "colab": {
          "base_uri": "https://localhost:8080/"
        },
        "id": "Ps6sEinNBZYp",
        "outputId": "1c0e9c5c-c3dc-45cb-9c4c-b932e3da2dbd"
      },
      "execution_count": 4,
      "outputs": [
        {
          "output_type": "execute_result",
          "data": {
            "text/plain": [
              "tensor([[1., 0., 0.],\n",
              "        [1., 1., 0.],\n",
              "        [1., 1., 1.]])"
            ]
          },
          "metadata": {},
          "execution_count": 4
        }
      ]
    },
    {
      "cell_type": "markdown",
      "source": [
        "# Then we call torch.trill, which gives us triangular shape tensor"
      ],
      "metadata": {
        "id": "4bSuFTEeD5Zo"
      }
    },
    {
      "cell_type": "code",
      "source": [
        "a = torch.tril(torch.ones(3,3))\n",
        "c = a @ b\n",
        "print('a=')\n",
        "print(a)\n",
        "print('b=')\n",
        "print(b)\n",
        "print('--')\n",
        "print('c=')\n",
        "print(c)"
      ],
      "metadata": {
        "colab": {
          "base_uri": "https://localhost:8080/"
        },
        "id": "hkfHH3WLB-J3",
        "outputId": "ccfccc11-baf6-450a-fda9-e3cf107cd2df"
      },
      "execution_count": 7,
      "outputs": [
        {
          "output_type": "stream",
          "name": "stdout",
          "text": [
            "a=\n",
            "tensor([[1., 0., 0.],\n",
            "        [1., 1., 0.],\n",
            "        [1., 1., 1.]])\n",
            "b=\n",
            "tensor([[2., 7.],\n",
            "        [6., 4.],\n",
            "        [6., 5.]])\n",
            "--\n",
            "c=\n",
            "tensor([[ 2.,  7.],\n",
            "        [ 8., 11.],\n",
            "        [14., 16.]])\n"
          ]
        }
      ]
    },
    {
      "cell_type": "markdown",
      "source": [
        "# And now when we make multiplication it it gives us following numbers:\n",
        "* Number 2 in tensor c is dot product between first row of matrix a [1,0,0] and first column of matrix b [2,6,6]\n",
        "* And next 7 is dot product between first row of matrix a [1,0,0] and second column of matrix b [7,4,5]\n",
        "\n",
        "# What we get in tensor c first row [2,7], we pluck out first row of b to tensor c\n",
        "* And next dot product between second row of a and 2 columns of b gives us 2+6 and 7+4, and this is what we want to achieve\n",
        "* Now depending how many zeros and ones we have in a, we are doing sum of variable number of the rows in b\n",
        "* And thats is deposited in c"
      ],
      "metadata": {
        "id": "pcNhRKmbBuW4"
      }
    },
    {
      "cell_type": "code",
      "source": [
        "a = a / torch.sum(a, 1, keepdim=True)\n",
        "c = a @ b\n",
        "print('a=')\n",
        "print(a)\n",
        "print('b=')\n",
        "print(b)\n",
        "print('--')\n",
        "print('c=')\n",
        "print(c)"
      ],
      "metadata": {
        "colab": {
          "base_uri": "https://localhost:8080/"
        },
        "id": "Ik5qyebPBnMo",
        "outputId": "f80db12c-455c-43f6-fd70-e5ba748dd1cc"
      },
      "execution_count": 8,
      "outputs": [
        {
          "output_type": "stream",
          "name": "stdout",
          "text": [
            "a=\n",
            "tensor([[1.0000, 0.0000, 0.0000],\n",
            "        [0.5000, 0.5000, 0.0000],\n",
            "        [0.3333, 0.3333, 0.3333]])\n",
            "b=\n",
            "tensor([[2., 7.],\n",
            "        [6., 4.],\n",
            "        [6., 5.]])\n",
            "--\n",
            "c=\n",
            "tensor([[2.0000, 7.0000],\n",
            "        [4.0000, 5.5000],\n",
            "        [4.6667, 5.3333]])\n"
          ]
        }
      ]
    },
    {
      "cell_type": "markdown",
      "source": [
        "# Now i we want to take an average of row in b by normalizing rows in a\n",
        "* We take an a and divide it by sum of a in 1-dimension and keepdims\n",
        "* Now the rows in a are sum to 1: first row [1.0,0,0] 2-row [0.5, 0.5.0] 3-row [0.3, 0.3, 0.3]\n",
        "* And when we multiply a and b, we get in c:\n",
        "* In first row of c [2,7] the first row of b [2,7]\n",
        "* In second of c [4, 5.5] row we get average of first 2 rows of b [2, 7],[6,4]"
      ],
      "metadata": {
        "id": "IArPSvk7ByKI"
      }
    }
  ]
}